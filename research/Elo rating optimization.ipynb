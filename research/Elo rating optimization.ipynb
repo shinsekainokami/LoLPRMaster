{
 "cells": [
  {
   "cell_type": "code",
   "execution_count": 58,
   "id": "25bd0761-7eb5-4193-8a49-7ebc77e06733",
   "metadata": {
    "tags": []
   },
   "outputs": [
    {
     "name": "stdout",
     "output_type": "stream",
     "text": [
      "Requirement already satisfied: pyswarms in /opt/conda/lib/python3.10/site-packages (1.3.0)\n",
      "Requirement already satisfied: scipy in /opt/conda/lib/python3.10/site-packages (from pyswarms) (1.11.3)\n",
      "Requirement already satisfied: numpy in /opt/conda/lib/python3.10/site-packages (from pyswarms) (1.26.0)\n",
      "Requirement already satisfied: matplotlib>=1.3.1 in /opt/conda/lib/python3.10/site-packages (from pyswarms) (3.5.2)\n",
      "Requirement already satisfied: attrs in /opt/conda/lib/python3.10/site-packages (from pyswarms) (23.1.0)\n",
      "Requirement already satisfied: tqdm in /opt/conda/lib/python3.10/site-packages (from pyswarms) (4.64.1)\n",
      "Requirement already satisfied: future in /opt/conda/lib/python3.10/site-packages (from pyswarms) (0.18.3)\n",
      "Requirement already satisfied: pyyaml in /opt/conda/lib/python3.10/site-packages/PyYAML-6.0-py3.10-linux-x86_64.egg (from pyswarms) (6.0)\n",
      "Requirement already satisfied: cycler>=0.10 in /opt/conda/lib/python3.10/site-packages (from matplotlib>=1.3.1->pyswarms) (0.11.0)\n",
      "Requirement already satisfied: fonttools>=4.22.0 in /opt/conda/lib/python3.10/site-packages (from matplotlib>=1.3.1->pyswarms) (4.25.0)\n",
      "Requirement already satisfied: kiwisolver>=1.0.1 in /opt/conda/lib/python3.10/site-packages (from matplotlib>=1.3.1->pyswarms) (1.4.2)\n",
      "Requirement already satisfied: packaging>=20.0 in /opt/conda/lib/python3.10/site-packages (from matplotlib>=1.3.1->pyswarms) (21.3)\n",
      "Requirement already satisfied: pillow>=6.2.0 in /opt/conda/lib/python3.10/site-packages (from matplotlib>=1.3.1->pyswarms) (10.0.1)\n",
      "Requirement already satisfied: pyparsing>=2.2.1 in /opt/conda/lib/python3.10/site-packages (from matplotlib>=1.3.1->pyswarms) (3.0.9)\n",
      "Requirement already satisfied: python-dateutil>=2.7 in /opt/conda/lib/python3.10/site-packages (from matplotlib>=1.3.1->pyswarms) (2.8.2)\n",
      "Requirement already satisfied: six>=1.5 in /opt/conda/lib/python3.10/site-packages (from python-dateutil>=2.7->matplotlib>=1.3.1->pyswarms) (1.16.0)\n",
      "\u001b[33mWARNING: Running pip as the 'root' user can result in broken permissions and conflicting behaviour with the system package manager. It is recommended to use a virtual environment instead: https://pip.pypa.io/warnings/venv\u001b[0m\u001b[33m\n",
      "\u001b[0m\n",
      "\u001b[1m[\u001b[0m\u001b[34;49mnotice\u001b[0m\u001b[1;39;49m]\u001b[0m\u001b[39;49m A new release of pip is available: \u001b[0m\u001b[31;49m23.2.1\u001b[0m\u001b[39;49m -> \u001b[0m\u001b[32;49m23.3\u001b[0m\n",
      "\u001b[1m[\u001b[0m\u001b[34;49mnotice\u001b[0m\u001b[1;39;49m]\u001b[0m\u001b[39;49m To update, run: \u001b[0m\u001b[32;49mpip install --upgrade pip\u001b[0m\n"
     ]
    }
   ],
   "source": [
    "!pip install pyswarms"
   ]
  },
  {
   "cell_type": "markdown",
   "id": "3d096e8c-67a3-473e-8066-5e4c57fcda9b",
   "metadata": {},
   "source": [
    "This code segment imports essential Python libraries for data manipulation, numerical computation, optimization, and interaction with Amazon S3. It initializes an S3 file system connection for working with S3 files. These tools are essential for a range of data analysis, machine learning, and optimization tasks involving data stored in an S3 bucket."
   ]
  },
  {
   "cell_type": "code",
   "execution_count": 37,
   "id": "7796c045-6661-46b0-a7cb-fbb276f7a7ff",
   "metadata": {
    "tags": []
   },
   "outputs": [],
   "source": [
    "import pandas as pd\n",
    "import numpy as np\n",
    "from scipy.optimize import basinhopping, shgo\n",
    "import pickle\n",
    "from sklearn.model_selection import train_test_split\n",
    "import pyswarms as ps\n",
    "from s3fs.core import S3FileSystem\n",
    "\n",
    "s3_file = S3FileSystem()"
   ]
  },
  {
   "cell_type": "markdown",
   "id": "eca134d3-d41b-4af1-ac7c-a0dfba8c10ad",
   "metadata": {},
   "source": [
    "The code defines a class named EloRatingSystem that implements the Elo rating system for evaluating and adjusting player ratings in a competitive game. It allows adding players with initial ratings, calculating expected ratings in a matchup, updating ratings based on outcomes, and retrieving player ratings. This simplifies the management of ratings in a competitive environment."
   ]
  },
  {
   "cell_type": "code",
   "execution_count": 3,
   "id": "bedae9ee-9733-458e-8a3f-b9136743aea5",
   "metadata": {
    "tags": []
   },
   "outputs": [],
   "source": [
    "class EloRatingSystem:\n",
    "    def __init__(self, k_factor=32):\n",
    "        self.k_factor = k_factor\n",
    "        self.ratings = {}\n",
    "\n",
    "    def add_player(self, player_name, rating=1200):\n",
    "        if player_name not in self.ratings:\n",
    "            self.ratings[player_name] = rating\n",
    "\n",
    "    def get_rating(self, player_name):\n",
    "        return self.ratings.get(player_name, 1200)\n",
    "    \n",
    "    def get_all_ratings(self):\n",
    "        print(sorted(self.ratings.items(), key=lambda x:x[1], reverse=True))\n",
    "\n",
    "    def calculate_expected_score(self, player_a, player_b):\n",
    "        rating_a = self.get_rating(player_a)\n",
    "        rating_b = self.get_rating(player_b)\n",
    "        expected_score_a = 1 / (1 + 10 ** ((rating_b - rating_a) / 400))\n",
    "        return expected_score_a\n",
    "\n",
    "    def update_ratings(self, winner, loser, performance_factor_winner, performance_factor_loser):\n",
    "        expected_score_winner = self.calculate_expected_score(winner, loser)\n",
    "        expected_score_loser = 1 - expected_score_winner\n",
    "\n",
    "        rating_winner = self.get_rating(winner)\n",
    "        rating_loser = self.get_rating(loser)\n",
    "\n",
    "        new_rating_winner = rating_winner + self.k_factor * performance_factor_winner * (1 - expected_score_winner)\n",
    "        new_rating_loser = rating_loser + self.k_factor * performance_factor_loser * (0 - expected_score_loser)\n",
    "\n",
    "        self.ratings[winner] = new_rating_winner\n",
    "        self.ratings[loser] = new_rating_loser"
   ]
  },
  {
   "cell_type": "markdown",
   "id": "bd07d6aa-1445-487d-b871-ad764a330cae",
   "metadata": {},
   "source": [
    "The PerformanceCalculator class calculates performance metrics using two models for team and player performance. It offers methods to compute overall performance, team performance, and player performance. It provides flexibility in performance calculation based on input data, winner information, and performance weights."
   ]
  },
  {
   "cell_type": "code",
   "execution_count": 18,
   "id": "0b9370d1-8c4a-4828-bfc3-f44e97cdbe12",
   "metadata": {
    "tags": []
   },
   "outputs": [],
   "source": [
    "class PerformanceCalculator:\n",
    "    \n",
    "    def __init__(self,team_model,player_model):\n",
    "        self.team_performance_calculator = team_model\n",
    "        self.player_performance_calculator = player_model\n",
    "        \n",
    "    def calculate_performance(self,match_data,team_perf_weight,player_perf_weight):\n",
    "        teams_performances_data = match_data['team_stats']\n",
    "        players_performances_data = match_data['players_stats']\n",
    "        winner = match_data['winner']\n",
    "        teams_probabilities = self.team_performance_calculator.predict_proba([teams_performances_data])[0]\n",
    "        players_probabilities = self.player_performance_calculator.predict_proba([players_performances_data])[0]\n",
    "        weighted_teams = teams_probabilities[winner] ** 3\n",
    "        weighted_players = players_probabilities[winner] ** 3\n",
    "        winning_team_performance = team_perf_weight*weighted_teams #+ player_perf_weight*weighted_players\n",
    "        return winning_team_performance\n",
    "    \n",
    "    def calculate_team_performance(self,winner_data,loser_data,winner,winner_performance_factor,loser_performance_factor):\n",
    "        winner_chance = self.team_performance_calculator.predict_proba([winner_data])[0][1]\n",
    "        loser_chance = self.team_performance_calculator.predict_proba([loser_data])[0][1]\n",
    "        winner_performance = winner_chance*winner_performance_factor\n",
    "        loser_performance = loser_chance*loser_performance_factor\n",
    "        return winner_performance,loser_performance\n",
    "        \n",
    "    def calculate_players_performance(self,winner_data,loser_data,winner,winner_performance_factor,loser_performance_factor):\n",
    "        winner_chance = self.player_performance_calculator.predict_proba([winner_data])[0][1]\n",
    "        loser_chance = self.player_performance_calculator.predict_proba([loser_data])[0][1]\n",
    "        winner_performance = winner_chance*winner_performance_factor\n",
    "        loser_performance = loser_chance*loser_performance_factor\n",
    "        return winner_performance,loser_performance\n",
    "    \n",
    "    def calculate_performance_classic(self,teams_performances_data,winner,weights):\n",
    "        if winner == 0:\n",
    "            winner_data = teams_performances_data[::2]\n",
    "            loser_data = teams_performances_data[1::2]\n",
    "        else:\n",
    "            winner_data = teams_performances_data[1::2]\n",
    "            loser_data = teams_performances_data[::2]\n",
    "        performance_diff = [np.sqrt((x - y)**2) for x, y in zip(winner_data, loser_data)]\n",
    "        return np.dot(performance_diff,weights)"
   ]
  },
  {
   "cell_type": "markdown",
   "id": "5412cef9-c939-42b7-a7fc-94321a26a9e4",
   "metadata": {},
   "source": [
    "These lines define the S3 bucket paths for input data and output data, where the data related to Elo ratings is stored and where the calculated output will be saved, respectively. The input data is located in the \"elo-rating-data/data\" S3 bucket, and the calculated results will be stored in the \"elo-rating-data/output\" S3 bucket."
   ]
  },
  {
   "cell_type": "code",
   "execution_count": 43,
   "id": "8f5bfdd8-95c0-422b-a8a4-630650a721ad",
   "metadata": {
    "tags": []
   },
   "outputs": [],
   "source": [
    "bucket = 's3://elo-rating-data/data'\n",
    "output_bucket = 's3://elo-rating-data/output'"
   ]
  },
  {
   "cell_type": "markdown",
   "id": "d0924343-34b3-4eb2-9805-8d53c942b0be",
   "metadata": {},
   "source": [
    "The code reads data from CSV files in an S3 bucket. It processes player and team statistics data using regular expressions to filter out specific columns that match the pattern \"ID\" or \"Champion\" from the column names. Player data is sorted by the 'platformGameID' column, while team data is sorted as well but not filtered based on the regex pattern."
   ]
  },
  {
   "cell_type": "code",
   "execution_count": 14,
   "id": "bdbf517b-3742-4c02-80dd-d487218ee04b",
   "metadata": {
    "tags": []
   },
   "outputs": [],
   "source": [
    "regex_pattern = r'.*(ID|Champion).*'\n",
    "\n",
    "norm_players_stats = pd.read_csv(f'{bucket}/norm_players_stats.csv', sep=';')\n",
    "norm_players_all_df = norm_players_stats.sort_values(by='platformGameID',ascending=True)\n",
    "norm_players_df = norm_players_all_df.filter(regex=f'^(?!{regex_pattern}).*$', axis=1)\n",
    "\n",
    "norm_teams_stats = pd.read_csv(f'{bucket}/norm_teams_stats.csv', sep=';')\n",
    "norm_teams_df = norm_teams_stats.sort_values(by='platformGameID',ascending=True)\n",
    "# norm_teams_df = norm_teams_all_df.filter(regex=f'^(?!{regex_pattern}).*$', axis=1)"
   ]
  },
  {
   "cell_type": "markdown",
   "id": "8aaff65a-11f7-4736-bfe2-b9a622ac77a1",
   "metadata": {},
   "source": [
    "The provided code includes two functions. The first function, create_rows_per_team, processes a DataFrame by filtering its columns based on regular expression patterns and adds a 'winner' column derived from the 'winningTeam' values. The second function, get_datasets, prepares data for machine learning by splitting it into features and labels. It offers the flexibility to create a validation dataset if needed. These functions are essential for data preprocessing and dataset splitting within a machine learning workflow."
   ]
  },
  {
   "cell_type": "code",
   "execution_count": 8,
   "id": "f986688d-c92b-4190-ab77-b42a80fe56eb",
   "metadata": {
    "tags": []
   },
   "outputs": [],
   "source": [
    "def create_rows_per_team(df, regex_pattern_100, regex_pattern_200, players_data = False):\n",
    "    stats_100_df = df.filter(regex=regex_pattern_100, axis=1).copy()\n",
    "    stats_200_df = df.filter(regex=regex_pattern_200, axis=1).copy()\n",
    "\n",
    "    stats_100_df['winner'] = stats_100_df['winningTeam'].apply(lambda x: 1 if x == 0 else 0)\n",
    "    stats_200_df['winner'] = stats_200_df['winningTeam']\n",
    "    stats_100_df = stats_100_df.drop(columns=['winningTeam'])\n",
    "    stats_200_df = stats_200_df.drop(columns=['winningTeam'])\n",
    "    \n",
    "    if players_data:\n",
    "        stats_200_df.columns = [col.replace('_10', '_5').replace('_9', '_4').replace('_8', '_3').replace('_7', '_2').replace('_6', '_1') for col in stats_200_df.columns]\n",
    "    else:\n",
    "        stats_100_df.columns = [col.replace('_100','') for col in stats_100_df.columns]\n",
    "        stats_200_df.columns = [col.replace('_200','') for col in stats_200_df.columns]\n",
    "    team_performance_data = pd.concat([stats_100_df,stats_200_df])\n",
    "    return team_performance_data\n",
    "\n",
    "def get_datasets(df, key_column, validation_dataset=False):\n",
    "    X = df.drop(columns=[key_column]).values\n",
    "    y = df[key_column].values\n",
    "    X_train, X_test, y_train, y_test = train_test_split(X, y, test_size=0.30, random_state=40)\n",
    "    if validation_dataset:\n",
    "        X_test, X_val, y_test, y_val = train_test_split(X_test, y_test, test_size=0.50, random_state=0)\n",
    "        return X_train, X_test, y_train, y_test, X_val, y_val\n",
    "    return X_train, X_test, y_train, y_test"
   ]
  },
  {
   "cell_type": "markdown",
   "id": "1bf7861c-2184-4f89-a61c-77dc7633b77a",
   "metadata": {},
   "source": [
    "The code splits two DataFrames, norm_teams_df and norm_players_df, into training and test sets based on a 70/30 split. This is a common practice for preparing data for machine learning or statistical analysis, where one part is used to train models, and the other part is reserved for evaluating the model's performance."
   ]
  },
  {
   "cell_type": "code",
   "execution_count": 47,
   "id": "60206e38-ae49-4258-a9c2-eb27a3a6aedb",
   "metadata": {
    "tags": []
   },
   "outputs": [],
   "source": [
    "split_index = round(norm_teams_df.index[-1]*0.7)\n",
    "\n",
    "teams_train_df = norm_teams_df.loc[:split_index]\n",
    "teams_test_df = norm_teams_df.loc[split_index + 1:]\n",
    "\n",
    "players_train_df = norm_players_df.loc[:split_index]\n",
    "players_test_df = norm_players_df.loc[split_index + 1:]"
   ]
  },
  {
   "cell_type": "markdown",
   "id": "f1924ab6-e331-46aa-bd84-2f1970648508",
   "metadata": {},
   "source": [
    "The code loads pre-trained machine learning models for team and player performance, then creates a PerformanceCalculator instance that uses these models for performance calculations."
   ]
  },
  {
   "cell_type": "code",
   "execution_count": 19,
   "id": "78942868-5e96-4cf1-ba40-124380355845",
   "metadata": {
    "tags": []
   },
   "outputs": [],
   "source": [
    "teams_model = pickle.load(s3_file.open('{}/{}'.format(bucket, 'team_independent_tm_normalized_teams_stats.sav')))\n",
    "players_model = pickle.load(s3_file.open('{}/{}'.format(bucket, 'team_independent_tm_normalized_player_stats.sav')))\n",
    "performance_calculator = PerformanceCalculator(teams_model,players_model)"
   ]
  },
  {
   "cell_type": "markdown",
   "id": "1edfb117-298a-4277-a742-1a632b5c26bf",
   "metadata": {},
   "source": [
    "This function calculates the mean squared error (MSE) for an Elo rating system using given parameters. It processes match data from norm_teams_df and norm_players_df, computing Elo ratings for teams and players in each match. The MSE is calculated based on the predicted outcomes, comparing them to actual results. The Elo system is updated iteratively, and the MSE measures the model's accuracy. The performance_calculator is used to assess team and player performance for each match."
   ]
  },
  {
   "cell_type": "code",
   "execution_count": 55,
   "id": "a29fd569-ceaa-4b10-b42e-995264cd2d66",
   "metadata": {
    "tags": []
   },
   "outputs": [],
   "source": [
    "def get_elo_rating(x,norm_teams_df,norm_players_df):\n",
    "    k = x[0]*10\n",
    "    elo = EloRatingSystem(k_factor=k)\n",
    "    y_pred = []\n",
    "    for (indx1,row_team),(indx2,row_players) in zip(norm_teams_df.iterrows(),norm_players_df.iterrows()): #for indx1,row_team in norm_teams_df.iterrows():# \n",
    "        # print(row)\n",
    "        winner = row_team['winningTeam']\n",
    "        winner_team = row_team['teamOnlineID_100'] if winner == 0 else row_team['teamOnlineID_200']\n",
    "        loser_team = row_team['teamOnlineID_100'] if winner == 1 else row_team['teamOnlineID_200']\n",
    "        regex_100 = r'.*(_100|winningTeam)'\n",
    "        regex_200 = r'.*(_200|winningTeam)'\n",
    "        winner_data = row_team.filter(regex=regex_100).values[:-2].astype(float) if winner == 0 else row_team.filter(regex=regex_200).values[:-2].astype(float)\n",
    "        # print(winner_data)\n",
    "        loser_data = row_team.filter(regex=regex_100).values[:-2].astype(float) if winner == 1 else row_team.filter(regex=regex_200).values[:-2].astype(float)\n",
    "        # print(loser_data)\n",
    "        winning_team_performance, losing_team_performance = performance_calculator.calculate_team_performance(winner_data,loser_data,winner,x[1],x[2])\n",
    "\n",
    "        regex_pl_100 = r'.*(_[1-5](?![0-9])|winningTeam)'\n",
    "        regex_pl_200 = r'.*(_6|_7|_8|_9|_10|winningTeam)'\n",
    "        winner_players_data = row_players.filter(regex=regex_pl_100).values[:-1].astype(float) if winner == 0 else row_players.filter(regex=regex_pl_200).values[:-1].astype(float)\n",
    "        loser_players_data = row_players.filter(regex=regex_pl_100).values[:-1].astype(float) if winner == 1 else row_players.filter(regex=regex_pl_200).values[:-1].astype(float)\n",
    "        winning_players_performance, losing_players_performance = performance_calculator.calculate_players_performance(winner_players_data,loser_players_data,winner,x[3],x[4])\n",
    "        winning_side_performance = winning_team_performance + winning_players_performance\n",
    "        losing_side_performance = losing_team_performance + losing_players_performance\n",
    "        elo.add_player(winner_team)\n",
    "        elo.add_player(loser_team)\n",
    "        expected_score_winner = elo.calculate_expected_score(winner_team, loser_team)\n",
    "        predicted = 1 if expected_score_winner > 0.5 else 0\n",
    "        if expected_score_winner != 0.5:\n",
    "            y_pred.append(predicted)\n",
    "        elo.update_ratings(winner_team, loser_team, winning_side_performance, losing_side_performance)\n",
    "    # print(elo.get_all_ratings())\n",
    "    mse = (1/len(y_pred))*(y_pred.count(0)) if len(y_pred) > 0 else 1\n",
    "    return mse"
   ]
  },
  {
   "cell_type": "markdown",
   "id": "f668cd2c-ff83-4907-b0ab-72fa306328be",
   "metadata": {},
   "source": [
    "This function optimizes Elo ratings by iterating through a range of parameter sets and computing the mean squared error (MSE) for each set using the get_elo_rating function. It then returns a list of these MSE values. The objective is to find the parameter set that results in the lowest MSE, indicating the best Elo rating configuration."
   ]
  },
  {
   "cell_type": "code",
   "execution_count": 56,
   "id": "50a74131-e53d-4ebb-a9a2-9f8a604dda4d",
   "metadata": {
    "tags": []
   },
   "outputs": [],
   "source": [
    "def optimize_elo_rating(x_all,norm_teams_df,norm_players_df):\n",
    "    mses = []\n",
    "    for x in x_all:\n",
    "        mse = get_elo_rating(x,norm_teams_df,norm_players_df)\n",
    "        mses.append(mse)\n",
    "    errors = np.array(mses)\n",
    "    print(errors)\n",
    "    return mses"
   ]
  },
  {
   "cell_type": "markdown",
   "id": "4a725d54-916e-4e4a-8b04-881d91a7929f",
   "metadata": {},
   "source": [
    "Certainly. This code sets up bounds for parameter values and specifies optimization options for Particle Swarm Optimization (PSO). It then creates an optimizer and performs optimization using the optimize_elo_rating function with 100 iterations on training data for teams and players. The goal is to minimize the Mean Squared Error (MSE) and find optimal parameter values for the Elo rating system."
   ]
  },
  {
   "cell_type": "code",
   "execution_count": null,
   "id": "9fcc56ff-2368-42fa-8cc5-c18bcaa93dab",
   "metadata": {
    "tags": []
   },
   "outputs": [],
   "source": [
    "max_bound = 5 * np.ones(5)\n",
    "min_bound = 0 * np.ones(5)\n",
    "bounds = (min_bound, max_bound)\n",
    "bounds\n",
    "options = {'c1': 1.4, 'c2': 1.4, 'w': 0.7}\n",
    "\n",
    "# Call instance of PSO with bounds argument\n",
    "optimizer = ps.single.GlobalBestPSO(n_particles=10, dimensions=5, options=options, bounds=bounds)\n",
    "\n",
    "# Perform optimization\n",
    "cost, pos = optimizer.optimize(optimize_elo_rating, iters=100, norm_teams_df=teams_train_df, norm_players_df=players_train_df)"
   ]
  },
  {
   "cell_type": "markdown",
   "id": "d5dfec5d-326c-43f6-bd2a-60a52c7e8030",
   "metadata": {},
   "source": [
    "The code prints and stores the optimization results, including the cost (MSE = 0.361489040) and optimized parameter values (pos = [0.3094478 , 3.58049065, 3.44078367, 3.57998156, 3.47146142] ), in a file named 'found_result_1.txt' within an Amazon S3 bucket denoted by output_bucket. This facilitates the retrieval and storage of these results for future reference or analysis."
   ]
  },
  {
   "cell_type": "code",
   "execution_count": null,
   "id": "6b7f3472-776c-48fb-9a3a-ef993dec122b",
   "metadata": {
    "tags": []
   },
   "outputs": [],
   "source": [
    "found_solution = {'cost':cost,'pos':pos}\n",
    "print(found_solution)\n",
    "\n",
    "with s3_file.open('{}/{}'.format(output_bucket, 'found_result_1.txt'), 'wb') as s3_f:\n",
    "    pickle.dump(found_solution, s3_f)"
   ]
  },
  {
   "cell_type": "code",
   "execution_count": 72,
   "id": "7c908386-b89c-4201-8c69-9baea77e482d",
   "metadata": {
    "tags": []
   },
   "outputs": [],
   "source": [
    "pos = [0.3094478 , 3.58049065, 3.44078367, 3.57998156, 3.47146142]"
   ]
  },
  {
   "cell_type": "markdown",
   "id": "7a6e062d-c704-43d1-a343-90afc4870b6e",
   "metadata": {},
   "source": [
    "The code calculates Elo rating errors for both training and test datasets using optimized parameters, and it saves the results in an S3 bucket as 'results_1.txt'."
   ]
  },
  {
   "cell_type": "code",
   "execution_count": 73,
   "id": "0124b81f-5d08-4137-a305-79694a8f05ce",
   "metadata": {},
   "outputs": [],
   "source": [
    "rating_error_train = get_elo_rating(pos,teams_train_df,players_train_df)\n",
    "rating_error_test = get_elo_rating(pos,teams_test_df,players_test_df)\n",
    "\n",
    "output_txt = f\"\"\"\n",
    "Elo rating error (training data): {rating_error_train},\n",
    "Elo rating error (test data): {rating_error_test},\n",
    "\"\"\"\n",
    "\n",
    "with s3_file.open('{}/{}'.format(output_bucket, 'results_1.txt'), 'wb') as s3_f:\n",
    "    pickle.dump(output_txt, s3_f)"
   ]
  },
  {
   "cell_type": "code",
   "execution_count": 71,
   "id": "ed2bd31f-044f-46ea-9fa9-98730ec96cbd",
   "metadata": {
    "tags": []
   },
   "outputs": [
    {
     "data": {
      "text/plain": [
       "'\\nElo rating error (training data): 0.3614890400604686,\\nElo rating error (test data): 0.38564422648238966,\\n'"
      ]
     },
     "execution_count": 71,
     "metadata": {},
     "output_type": "execute_result"
    }
   ],
   "source": [
    "output_txt"
   ]
  }
 ],
 "metadata": {
  "availableInstances": [
   {
    "_defaultOrder": 0,
    "_isFastLaunch": true,
    "category": "General purpose",
    "gpuNum": 0,
    "hideHardwareSpecs": false,
    "memoryGiB": 4,
    "name": "ml.t3.medium",
    "vcpuNum": 2
   },
   {
    "_defaultOrder": 1,
    "_isFastLaunch": false,
    "category": "General purpose",
    "gpuNum": 0,
    "hideHardwareSpecs": false,
    "memoryGiB": 8,
    "name": "ml.t3.large",
    "vcpuNum": 2
   },
   {
    "_defaultOrder": 2,
    "_isFastLaunch": false,
    "category": "General purpose",
    "gpuNum": 0,
    "hideHardwareSpecs": false,
    "memoryGiB": 16,
    "name": "ml.t3.xlarge",
    "vcpuNum": 4
   },
   {
    "_defaultOrder": 3,
    "_isFastLaunch": false,
    "category": "General purpose",
    "gpuNum": 0,
    "hideHardwareSpecs": false,
    "memoryGiB": 32,
    "name": "ml.t3.2xlarge",
    "vcpuNum": 8
   },
   {
    "_defaultOrder": 4,
    "_isFastLaunch": true,
    "category": "General purpose",
    "gpuNum": 0,
    "hideHardwareSpecs": false,
    "memoryGiB": 8,
    "name": "ml.m5.large",
    "vcpuNum": 2
   },
   {
    "_defaultOrder": 5,
    "_isFastLaunch": false,
    "category": "General purpose",
    "gpuNum": 0,
    "hideHardwareSpecs": false,
    "memoryGiB": 16,
    "name": "ml.m5.xlarge",
    "vcpuNum": 4
   },
   {
    "_defaultOrder": 6,
    "_isFastLaunch": false,
    "category": "General purpose",
    "gpuNum": 0,
    "hideHardwareSpecs": false,
    "memoryGiB": 32,
    "name": "ml.m5.2xlarge",
    "vcpuNum": 8
   },
   {
    "_defaultOrder": 7,
    "_isFastLaunch": false,
    "category": "General purpose",
    "gpuNum": 0,
    "hideHardwareSpecs": false,
    "memoryGiB": 64,
    "name": "ml.m5.4xlarge",
    "vcpuNum": 16
   },
   {
    "_defaultOrder": 8,
    "_isFastLaunch": false,
    "category": "General purpose",
    "gpuNum": 0,
    "hideHardwareSpecs": false,
    "memoryGiB": 128,
    "name": "ml.m5.8xlarge",
    "vcpuNum": 32
   },
   {
    "_defaultOrder": 9,
    "_isFastLaunch": false,
    "category": "General purpose",
    "gpuNum": 0,
    "hideHardwareSpecs": false,
    "memoryGiB": 192,
    "name": "ml.m5.12xlarge",
    "vcpuNum": 48
   },
   {
    "_defaultOrder": 10,
    "_isFastLaunch": false,
    "category": "General purpose",
    "gpuNum": 0,
    "hideHardwareSpecs": false,
    "memoryGiB": 256,
    "name": "ml.m5.16xlarge",
    "vcpuNum": 64
   },
   {
    "_defaultOrder": 11,
    "_isFastLaunch": false,
    "category": "General purpose",
    "gpuNum": 0,
    "hideHardwareSpecs": false,
    "memoryGiB": 384,
    "name": "ml.m5.24xlarge",
    "vcpuNum": 96
   },
   {
    "_defaultOrder": 12,
    "_isFastLaunch": false,
    "category": "General purpose",
    "gpuNum": 0,
    "hideHardwareSpecs": false,
    "memoryGiB": 8,
    "name": "ml.m5d.large",
    "vcpuNum": 2
   },
   {
    "_defaultOrder": 13,
    "_isFastLaunch": false,
    "category": "General purpose",
    "gpuNum": 0,
    "hideHardwareSpecs": false,
    "memoryGiB": 16,
    "name": "ml.m5d.xlarge",
    "vcpuNum": 4
   },
   {
    "_defaultOrder": 14,
    "_isFastLaunch": false,
    "category": "General purpose",
    "gpuNum": 0,
    "hideHardwareSpecs": false,
    "memoryGiB": 32,
    "name": "ml.m5d.2xlarge",
    "vcpuNum": 8
   },
   {
    "_defaultOrder": 15,
    "_isFastLaunch": false,
    "category": "General purpose",
    "gpuNum": 0,
    "hideHardwareSpecs": false,
    "memoryGiB": 64,
    "name": "ml.m5d.4xlarge",
    "vcpuNum": 16
   },
   {
    "_defaultOrder": 16,
    "_isFastLaunch": false,
    "category": "General purpose",
    "gpuNum": 0,
    "hideHardwareSpecs": false,
    "memoryGiB": 128,
    "name": "ml.m5d.8xlarge",
    "vcpuNum": 32
   },
   {
    "_defaultOrder": 17,
    "_isFastLaunch": false,
    "category": "General purpose",
    "gpuNum": 0,
    "hideHardwareSpecs": false,
    "memoryGiB": 192,
    "name": "ml.m5d.12xlarge",
    "vcpuNum": 48
   },
   {
    "_defaultOrder": 18,
    "_isFastLaunch": false,
    "category": "General purpose",
    "gpuNum": 0,
    "hideHardwareSpecs": false,
    "memoryGiB": 256,
    "name": "ml.m5d.16xlarge",
    "vcpuNum": 64
   },
   {
    "_defaultOrder": 19,
    "_isFastLaunch": false,
    "category": "General purpose",
    "gpuNum": 0,
    "hideHardwareSpecs": false,
    "memoryGiB": 384,
    "name": "ml.m5d.24xlarge",
    "vcpuNum": 96
   },
   {
    "_defaultOrder": 20,
    "_isFastLaunch": false,
    "category": "General purpose",
    "gpuNum": 0,
    "hideHardwareSpecs": true,
    "memoryGiB": 0,
    "name": "ml.geospatial.interactive",
    "supportedImageNames": [
     "sagemaker-geospatial-v1-0"
    ],
    "vcpuNum": 0
   },
   {
    "_defaultOrder": 21,
    "_isFastLaunch": true,
    "category": "Compute optimized",
    "gpuNum": 0,
    "hideHardwareSpecs": false,
    "memoryGiB": 4,
    "name": "ml.c5.large",
    "vcpuNum": 2
   },
   {
    "_defaultOrder": 22,
    "_isFastLaunch": false,
    "category": "Compute optimized",
    "gpuNum": 0,
    "hideHardwareSpecs": false,
    "memoryGiB": 8,
    "name": "ml.c5.xlarge",
    "vcpuNum": 4
   },
   {
    "_defaultOrder": 23,
    "_isFastLaunch": false,
    "category": "Compute optimized",
    "gpuNum": 0,
    "hideHardwareSpecs": false,
    "memoryGiB": 16,
    "name": "ml.c5.2xlarge",
    "vcpuNum": 8
   },
   {
    "_defaultOrder": 24,
    "_isFastLaunch": false,
    "category": "Compute optimized",
    "gpuNum": 0,
    "hideHardwareSpecs": false,
    "memoryGiB": 32,
    "name": "ml.c5.4xlarge",
    "vcpuNum": 16
   },
   {
    "_defaultOrder": 25,
    "_isFastLaunch": false,
    "category": "Compute optimized",
    "gpuNum": 0,
    "hideHardwareSpecs": false,
    "memoryGiB": 72,
    "name": "ml.c5.9xlarge",
    "vcpuNum": 36
   },
   {
    "_defaultOrder": 26,
    "_isFastLaunch": false,
    "category": "Compute optimized",
    "gpuNum": 0,
    "hideHardwareSpecs": false,
    "memoryGiB": 96,
    "name": "ml.c5.12xlarge",
    "vcpuNum": 48
   },
   {
    "_defaultOrder": 27,
    "_isFastLaunch": false,
    "category": "Compute optimized",
    "gpuNum": 0,
    "hideHardwareSpecs": false,
    "memoryGiB": 144,
    "name": "ml.c5.18xlarge",
    "vcpuNum": 72
   },
   {
    "_defaultOrder": 28,
    "_isFastLaunch": false,
    "category": "Compute optimized",
    "gpuNum": 0,
    "hideHardwareSpecs": false,
    "memoryGiB": 192,
    "name": "ml.c5.24xlarge",
    "vcpuNum": 96
   },
   {
    "_defaultOrder": 29,
    "_isFastLaunch": true,
    "category": "Accelerated computing",
    "gpuNum": 1,
    "hideHardwareSpecs": false,
    "memoryGiB": 16,
    "name": "ml.g4dn.xlarge",
    "vcpuNum": 4
   },
   {
    "_defaultOrder": 30,
    "_isFastLaunch": false,
    "category": "Accelerated computing",
    "gpuNum": 1,
    "hideHardwareSpecs": false,
    "memoryGiB": 32,
    "name": "ml.g4dn.2xlarge",
    "vcpuNum": 8
   },
   {
    "_defaultOrder": 31,
    "_isFastLaunch": false,
    "category": "Accelerated computing",
    "gpuNum": 1,
    "hideHardwareSpecs": false,
    "memoryGiB": 64,
    "name": "ml.g4dn.4xlarge",
    "vcpuNum": 16
   },
   {
    "_defaultOrder": 32,
    "_isFastLaunch": false,
    "category": "Accelerated computing",
    "gpuNum": 1,
    "hideHardwareSpecs": false,
    "memoryGiB": 128,
    "name": "ml.g4dn.8xlarge",
    "vcpuNum": 32
   },
   {
    "_defaultOrder": 33,
    "_isFastLaunch": false,
    "category": "Accelerated computing",
    "gpuNum": 4,
    "hideHardwareSpecs": false,
    "memoryGiB": 192,
    "name": "ml.g4dn.12xlarge",
    "vcpuNum": 48
   },
   {
    "_defaultOrder": 34,
    "_isFastLaunch": false,
    "category": "Accelerated computing",
    "gpuNum": 1,
    "hideHardwareSpecs": false,
    "memoryGiB": 256,
    "name": "ml.g4dn.16xlarge",
    "vcpuNum": 64
   },
   {
    "_defaultOrder": 35,
    "_isFastLaunch": false,
    "category": "Accelerated computing",
    "gpuNum": 1,
    "hideHardwareSpecs": false,
    "memoryGiB": 61,
    "name": "ml.p3.2xlarge",
    "vcpuNum": 8
   },
   {
    "_defaultOrder": 36,
    "_isFastLaunch": false,
    "category": "Accelerated computing",
    "gpuNum": 4,
    "hideHardwareSpecs": false,
    "memoryGiB": 244,
    "name": "ml.p3.8xlarge",
    "vcpuNum": 32
   },
   {
    "_defaultOrder": 37,
    "_isFastLaunch": false,
    "category": "Accelerated computing",
    "gpuNum": 8,
    "hideHardwareSpecs": false,
    "memoryGiB": 488,
    "name": "ml.p3.16xlarge",
    "vcpuNum": 64
   },
   {
    "_defaultOrder": 38,
    "_isFastLaunch": false,
    "category": "Accelerated computing",
    "gpuNum": 8,
    "hideHardwareSpecs": false,
    "memoryGiB": 768,
    "name": "ml.p3dn.24xlarge",
    "vcpuNum": 96
   },
   {
    "_defaultOrder": 39,
    "_isFastLaunch": false,
    "category": "Memory Optimized",
    "gpuNum": 0,
    "hideHardwareSpecs": false,
    "memoryGiB": 16,
    "name": "ml.r5.large",
    "vcpuNum": 2
   },
   {
    "_defaultOrder": 40,
    "_isFastLaunch": false,
    "category": "Memory Optimized",
    "gpuNum": 0,
    "hideHardwareSpecs": false,
    "memoryGiB": 32,
    "name": "ml.r5.xlarge",
    "vcpuNum": 4
   },
   {
    "_defaultOrder": 41,
    "_isFastLaunch": false,
    "category": "Memory Optimized",
    "gpuNum": 0,
    "hideHardwareSpecs": false,
    "memoryGiB": 64,
    "name": "ml.r5.2xlarge",
    "vcpuNum": 8
   },
   {
    "_defaultOrder": 42,
    "_isFastLaunch": false,
    "category": "Memory Optimized",
    "gpuNum": 0,
    "hideHardwareSpecs": false,
    "memoryGiB": 128,
    "name": "ml.r5.4xlarge",
    "vcpuNum": 16
   },
   {
    "_defaultOrder": 43,
    "_isFastLaunch": false,
    "category": "Memory Optimized",
    "gpuNum": 0,
    "hideHardwareSpecs": false,
    "memoryGiB": 256,
    "name": "ml.r5.8xlarge",
    "vcpuNum": 32
   },
   {
    "_defaultOrder": 44,
    "_isFastLaunch": false,
    "category": "Memory Optimized",
    "gpuNum": 0,
    "hideHardwareSpecs": false,
    "memoryGiB": 384,
    "name": "ml.r5.12xlarge",
    "vcpuNum": 48
   },
   {
    "_defaultOrder": 45,
    "_isFastLaunch": false,
    "category": "Memory Optimized",
    "gpuNum": 0,
    "hideHardwareSpecs": false,
    "memoryGiB": 512,
    "name": "ml.r5.16xlarge",
    "vcpuNum": 64
   },
   {
    "_defaultOrder": 46,
    "_isFastLaunch": false,
    "category": "Memory Optimized",
    "gpuNum": 0,
    "hideHardwareSpecs": false,
    "memoryGiB": 768,
    "name": "ml.r5.24xlarge",
    "vcpuNum": 96
   },
   {
    "_defaultOrder": 47,
    "_isFastLaunch": false,
    "category": "Accelerated computing",
    "gpuNum": 1,
    "hideHardwareSpecs": false,
    "memoryGiB": 16,
    "name": "ml.g5.xlarge",
    "vcpuNum": 4
   },
   {
    "_defaultOrder": 48,
    "_isFastLaunch": false,
    "category": "Accelerated computing",
    "gpuNum": 1,
    "hideHardwareSpecs": false,
    "memoryGiB": 32,
    "name": "ml.g5.2xlarge",
    "vcpuNum": 8
   },
   {
    "_defaultOrder": 49,
    "_isFastLaunch": false,
    "category": "Accelerated computing",
    "gpuNum": 1,
    "hideHardwareSpecs": false,
    "memoryGiB": 64,
    "name": "ml.g5.4xlarge",
    "vcpuNum": 16
   },
   {
    "_defaultOrder": 50,
    "_isFastLaunch": false,
    "category": "Accelerated computing",
    "gpuNum": 1,
    "hideHardwareSpecs": false,
    "memoryGiB": 128,
    "name": "ml.g5.8xlarge",
    "vcpuNum": 32
   },
   {
    "_defaultOrder": 51,
    "_isFastLaunch": false,
    "category": "Accelerated computing",
    "gpuNum": 1,
    "hideHardwareSpecs": false,
    "memoryGiB": 256,
    "name": "ml.g5.16xlarge",
    "vcpuNum": 64
   },
   {
    "_defaultOrder": 52,
    "_isFastLaunch": false,
    "category": "Accelerated computing",
    "gpuNum": 4,
    "hideHardwareSpecs": false,
    "memoryGiB": 192,
    "name": "ml.g5.12xlarge",
    "vcpuNum": 48
   },
   {
    "_defaultOrder": 53,
    "_isFastLaunch": false,
    "category": "Accelerated computing",
    "gpuNum": 4,
    "hideHardwareSpecs": false,
    "memoryGiB": 384,
    "name": "ml.g5.24xlarge",
    "vcpuNum": 96
   },
   {
    "_defaultOrder": 54,
    "_isFastLaunch": false,
    "category": "Accelerated computing",
    "gpuNum": 8,
    "hideHardwareSpecs": false,
    "memoryGiB": 768,
    "name": "ml.g5.48xlarge",
    "vcpuNum": 192
   },
   {
    "_defaultOrder": 55,
    "_isFastLaunch": false,
    "category": "Accelerated computing",
    "gpuNum": 8,
    "hideHardwareSpecs": false,
    "memoryGiB": 1152,
    "name": "ml.p4d.24xlarge",
    "vcpuNum": 96
   },
   {
    "_defaultOrder": 56,
    "_isFastLaunch": false,
    "category": "Accelerated computing",
    "gpuNum": 8,
    "hideHardwareSpecs": false,
    "memoryGiB": 1152,
    "name": "ml.p4de.24xlarge",
    "vcpuNum": 96
   }
  ],
  "instance_type": "ml.t3.medium",
  "kernelspec": {
   "display_name": "Python 3 (Data Science 3.0)",
   "language": "python",
   "name": "python3__SAGEMAKER_INTERNAL__arn:aws:sagemaker:us-east-2:429704687514:image/sagemaker-data-science-310-v1"
  },
  "language_info": {
   "codemirror_mode": {
    "name": "ipython",
    "version": 3
   },
   "file_extension": ".py",
   "mimetype": "text/x-python",
   "name": "python",
   "nbconvert_exporter": "python",
   "pygments_lexer": "ipython3",
   "version": "3.10.6"
  }
 },
 "nbformat": 4,
 "nbformat_minor": 5
}
