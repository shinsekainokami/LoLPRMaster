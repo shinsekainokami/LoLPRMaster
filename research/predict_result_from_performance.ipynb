{
 "cells": [
  {
   "cell_type": "markdown",
   "id": "f8b702af-7cde-4e3f-aeef-67edcaacd245",
   "metadata": {},
   "source": [
    "This Python code snippet imports the necessary libraries and modules for data analysis, machine learning, and visualization. It uses pandas for tabular data handling, NumPy for efficient numerical operations, Matplotlib for creating plots, scikit-learn (sklearn) for machine learning, and pickle for object serialization. "
   ]
  },
  {
   "cell_type": "code",
   "execution_count": 14,
   "id": "e4021f31-8aff-473c-bece-cb088bafd2c7",
   "metadata": {
    "tags": []
   },
   "outputs": [],
   "source": [
    "import pandas as pd\n",
    "import numpy as np \n",
    "import matplotlib.pyplot as plt\n",
    "import sklearn\n",
    "from sklearn.neural_network import MLPClassifier\n",
    "from sklearn.neural_network import MLPRegressor\n",
    "from sklearn.linear_model import LogisticRegression\n",
    "import pickle\n",
    "\n",
    "# Import necessary modules\n",
    "from sklearn.model_selection import train_test_split\n",
    "from sklearn.metrics import classification_report,confusion_matrix\n",
    "from sklearn.metrics import mean_squared_error\n",
    "from math import sqrt\n",
    "from sklearn.metrics import r2_score\n",
    "from s3fs.core import S3FileSystem\n",
    "\n",
    "s3_file = S3FileSystem()"
   ]
  },
  {
   "cell_type": "markdown",
   "id": "a8bf2dea-fb18-4bb2-9614-974a0878b596",
   "metadata": {},
   "source": [
    "This code defines two functions. The first function, create_rows_per_team, extracts specific columns from a DataFrame based on regular expressions, processes team data, and returns a combined DataFrame. The second function, get_datasets, prepares training and testing datasets for machine learning, with an optional validation dataset"
   ]
  },
  {
   "cell_type": "code",
   "execution_count": 3,
   "id": "7716e7ad-6dfe-4bb2-850c-e61336743b1f",
   "metadata": {
    "tags": []
   },
   "outputs": [],
   "source": [
    "def create_rows_per_team(df, regex_pattern_100, regex_pattern_200, players_data = False):\n",
    "    stats_100_df = df.filter(regex=regex_pattern_100, axis=1).copy()\n",
    "    stats_200_df = df.filter(regex=regex_pattern_200, axis=1).copy()\n",
    "\n",
    "    stats_100_df['winner'] = stats_100_df['winningTeam'].apply(lambda x: 1 if x == 0 else 0)\n",
    "    stats_200_df['winner'] = stats_200_df['winningTeam']\n",
    "    stats_100_df = stats_100_df.drop(columns=['winningTeam'])\n",
    "    stats_200_df = stats_200_df.drop(columns=['winningTeam'])\n",
    "    \n",
    "    if players_data:\n",
    "        stats_200_df.columns = [col.replace('_10', '_5').replace('_9', '_4').replace('_8', '_3').replace('_7', '_2').replace('_6', '_1') for col in stats_200_df.columns]\n",
    "    else:\n",
    "        stats_100_df.columns = [col.replace('_100','') for col in stats_100_df.columns]\n",
    "        stats_200_df.columns = [col.replace('_200','') for col in stats_200_df.columns]\n",
    "    team_performance_data = pd.concat([stats_100_df,stats_200_df])\n",
    "    return team_performance_data\n",
    "\n",
    "def get_datasets(df, key_column, validation_dataset=False):\n",
    "    X = df.drop(columns=[key_column]).values\n",
    "    y = df[key_column].values\n",
    "    X_train, X_test, y_train, y_test = train_test_split(X, y, test_size=0.30, random_state=40)\n",
    "    if validation_dataset:\n",
    "        X_test, X_val, y_test, y_val = train_test_split(X_test, y_test, test_size=0.50, random_state=40)\n",
    "        return X_train, X_test, y_train, y_test, X_val, y_val\n",
    "    return X_train, X_test, y_train, y_test"
   ]
  },
  {
   "cell_type": "markdown",
   "id": "f9325bb6-50bd-4405-8bcc-3d8b4ed8ae9f",
   "metadata": {},
   "source": [
    "This code loads and filters data from various CSV files, creating DataFrames for player and team statistics. The resulting DataFrames are stored in the data_dfs dictionary for further analysis or processing."
   ]
  },
  {
   "cell_type": "code",
   "execution_count": 4,
   "id": "00545b8a-aec6-49b2-a19b-279266fde005",
   "metadata": {
    "tags": []
   },
   "outputs": [],
   "source": [
    "regex_pattern = r'.*(ID|Champion).*'\n",
    "\n",
    "norm_players_stats = pd.read_csv('./norm_players_stats.csv', sep=';')\n",
    "norm_players_df = norm_players_stats.filter(regex=f'^(?!{regex_pattern}).*$', axis=1)\n",
    "player_id_columns = norm_players_stats[['platformGameID', 'teamOnlineID_100', 'teamOnlineID_200']]\n",
    "players_performance = create_rows_per_team(norm_players_df,r'.*(_[1-5](?![0-9])|winningTeam)',r'.*(_6|_7|_8|_9|_10|winningTeam)',True)\n",
    "\n",
    "norm_teams_stats = pd.read_csv('./norm_teams_stats.csv', sep=';')\n",
    "norm_teams_df = norm_teams_stats.filter(regex=f'^(?!{regex_pattern}).*$', axis=1)\n",
    "team_id_columns = norm_teams_stats[['platformGameID', 'teamOnlineID_100', 'teamOnlineID_200']]\n",
    "teams_performance = create_rows_per_team(norm_teams_df,r'.*(_100|winningTeam)',r'.*(_200|winningTeam)')\n",
    "\n",
    "pca_players_stats = pd.read_csv('./players_stats_pca.csv', sep=';')\n",
    "pca_players_df = pca_players_stats.filter(regex=f'^(?!{regex_pattern})$', axis=1)\n",
    "\n",
    "data_dfs = {\n",
    "    'Normalized player stats':players_performance,\n",
    "    'Normalized teams stats':teams_performance,\n",
    "    # 'PCA player stats':pca_players_df\n",
    "}"
   ]
  },
  {
   "cell_type": "markdown",
   "id": "327cd53b-e4eb-4f0a-8c28-8e4d9d97c24b",
   "metadata": {},
   "source": [
    "the build_and_train_mlp function creates and trains a Multi-Layer Perceptron (MLP) classifier for classification tasks using scikit-learn. It takes training and testing data along with an optional parameter for specifying the neural network's hidden layer sizes. The function then trains the classifier, makes predictions on both the training and test data, and prints confusion matrices and classification reports to assess the model's performance. The trained model and predictions are returned, offering a convenient way to build and evaluate MLP classifiers."
   ]
  },
  {
   "cell_type": "code",
   "execution_count": 5,
   "id": "26d272d2-2fcc-44d4-9659-69e70e848c3b",
   "metadata": {
    "tags": []
   },
   "outputs": [],
   "source": [
    "def build_and_train_mlp(X_train,y_train,X_test,y_test,layer_sizes:tuple=(8,8,8)):\n",
    "    mlp = MLPClassifier(hidden_layer_sizes=layer_sizes, activation='relu', solver='adam', max_iter=500)\n",
    "    mlp.fit(X_train,y_train)\n",
    "    predict_train = mlp.predict(X_train)\n",
    "    predict_test = mlp.predict(X_test)\n",
    "    \n",
    "    print('Confusion matrix (training_data)')\n",
    "    print(confusion_matrix(y_train,predict_train))\n",
    "    print(classification_report(y_train,predict_train))\n",
    "    \n",
    "    print('Confusion matrix (test_data)')\n",
    "    print(confusion_matrix(y_test,predict_test))\n",
    "    print(classification_report(y_test,predict_test))\n",
    "    return mlp,predict_train,predict_test"
   ]
  },
  {
   "cell_type": "markdown",
   "id": "eb1a260e-ed33-4f26-904c-c3a0550a682f",
   "metadata": {},
   "source": [
    "This code segment iterates through multiple datasets, splits each dataset into training and testing sets, and trains Multi-Layer Perceptron (MLP) classifiers for binary classification. It collects information about each model's performance and dataset name, storing it in a list called models for later analysis and comparison. This allows you to evaluate how well the MLP classifiers perform on different datasets."
   ]
  },
  {
   "cell_type": "code",
   "execution_count": 6,
   "id": "4e823fcb-fe26-41f5-b71a-adc1457318b4",
   "metadata": {
    "tags": []
   },
   "outputs": [
    {
     "name": "stdout",
     "output_type": "stream",
     "text": [
      "Building model to predict result from Normalized player stats\n",
      "Confusion matrix (training_data)\n",
      "[[5458    1]\n",
      " [   0 5389]]\n",
      "              precision    recall  f1-score   support\n",
      "\n",
      "           0       1.00      1.00      1.00      5459\n",
      "           1       1.00      1.00      1.00      5389\n",
      "\n",
      "    accuracy                           1.00     10848\n",
      "   macro avg       1.00      1.00      1.00     10848\n",
      "weighted avg       1.00      1.00      1.00     10848\n",
      "\n",
      "Confusion matrix (test_data)\n",
      "[[2223   67]\n",
      " [  47 2313]]\n",
      "              precision    recall  f1-score   support\n",
      "\n",
      "           0       0.98      0.97      0.97      2290\n",
      "           1       0.97      0.98      0.98      2360\n",
      "\n",
      "    accuracy                           0.98      4650\n",
      "   macro avg       0.98      0.98      0.98      4650\n",
      "weighted avg       0.98      0.98      0.98      4650\n",
      "\n",
      "Building model to predict result from Normalized teams stats\n",
      "Confusion matrix (training_data)\n",
      "[[5336  123]\n",
      " [  44 5345]]\n",
      "              precision    recall  f1-score   support\n",
      "\n",
      "           0       0.99      0.98      0.98      5459\n",
      "           1       0.98      0.99      0.98      5389\n",
      "\n",
      "    accuracy                           0.98     10848\n",
      "   macro avg       0.98      0.98      0.98     10848\n",
      "weighted avg       0.98      0.98      0.98     10848\n",
      "\n",
      "Confusion matrix (test_data)\n",
      "[[2217   73]\n",
      " [  26 2334]]\n",
      "              precision    recall  f1-score   support\n",
      "\n",
      "           0       0.99      0.97      0.98      2290\n",
      "           1       0.97      0.99      0.98      2360\n",
      "\n",
      "    accuracy                           0.98      4650\n",
      "   macro avg       0.98      0.98      0.98      4650\n",
      "weighted avg       0.98      0.98      0.98      4650\n",
      "\n"
     ]
    }
   ],
   "source": [
    "models = []\n",
    "for dataset_name,df in data_dfs.items():\n",
    "    X_train, X_test, y_train, y_test = get_datasets(df, 'winner')\n",
    "    print(f\"Building model to predict result from {dataset_name}\")\n",
    "    mlp,predict_train,predict_test = build_and_train_mlp(X_train,y_train,X_test,y_test)\n",
    "    model = {\n",
    "        'model':mlp,\n",
    "        'dataset':dataset_name,\n",
    "        'train_prediction':predict_train,\n",
    "        'test_prediction':predict_test\n",
    "    }\n",
    "    models.append(model)"
   ]
  },
  {
   "cell_type": "markdown",
   "id": "8d978cba-22b2-430f-a8d4-2eb807815386",
   "metadata": {},
   "source": [
    "This code saves each trained MLP classifier to a file with a specific naming convention based on the dataset name. This allows you to store and later load these models for future use or analysis."
   ]
  },
  {
   "cell_type": "code",
   "execution_count": null,
   "id": "1d78f8b3-41a2-4dbf-b307-3cc4f43cc607",
   "metadata": {
    "tags": []
   },
   "outputs": [],
   "source": [
    "for model in models:\n",
    "    trained_model = model['model']\n",
    "    filename = \"team_independent_tm_\" + model['dataset'].replace(' ','_').lower() + '.sav'\n",
    "    pickle.dump(trained_model, open(filename, 'wb'))"
   ]
  }
 ],
 "metadata": {
  "availableInstances": [
   {
    "_defaultOrder": 0,
    "_isFastLaunch": true,
    "category": "General purpose",
    "gpuNum": 0,
    "hideHardwareSpecs": false,
    "memoryGiB": 4,
    "name": "ml.t3.medium",
    "vcpuNum": 2
   },
   {
    "_defaultOrder": 1,
    "_isFastLaunch": false,
    "category": "General purpose",
    "gpuNum": 0,
    "hideHardwareSpecs": false,
    "memoryGiB": 8,
    "name": "ml.t3.large",
    "vcpuNum": 2
   },
   {
    "_defaultOrder": 2,
    "_isFastLaunch": false,
    "category": "General purpose",
    "gpuNum": 0,
    "hideHardwareSpecs": false,
    "memoryGiB": 16,
    "name": "ml.t3.xlarge",
    "vcpuNum": 4
   },
   {
    "_defaultOrder": 3,
    "_isFastLaunch": false,
    "category": "General purpose",
    "gpuNum": 0,
    "hideHardwareSpecs": false,
    "memoryGiB": 32,
    "name": "ml.t3.2xlarge",
    "vcpuNum": 8
   },
   {
    "_defaultOrder": 4,
    "_isFastLaunch": true,
    "category": "General purpose",
    "gpuNum": 0,
    "hideHardwareSpecs": false,
    "memoryGiB": 8,
    "name": "ml.m5.large",
    "vcpuNum": 2
   },
   {
    "_defaultOrder": 5,
    "_isFastLaunch": false,
    "category": "General purpose",
    "gpuNum": 0,
    "hideHardwareSpecs": false,
    "memoryGiB": 16,
    "name": "ml.m5.xlarge",
    "vcpuNum": 4
   },
   {
    "_defaultOrder": 6,
    "_isFastLaunch": false,
    "category": "General purpose",
    "gpuNum": 0,
    "hideHardwareSpecs": false,
    "memoryGiB": 32,
    "name": "ml.m5.2xlarge",
    "vcpuNum": 8
   },
   {
    "_defaultOrder": 7,
    "_isFastLaunch": false,
    "category": "General purpose",
    "gpuNum": 0,
    "hideHardwareSpecs": false,
    "memoryGiB": 64,
    "name": "ml.m5.4xlarge",
    "vcpuNum": 16
   },
   {
    "_defaultOrder": 8,
    "_isFastLaunch": false,
    "category": "General purpose",
    "gpuNum": 0,
    "hideHardwareSpecs": false,
    "memoryGiB": 128,
    "name": "ml.m5.8xlarge",
    "vcpuNum": 32
   },
   {
    "_defaultOrder": 9,
    "_isFastLaunch": false,
    "category": "General purpose",
    "gpuNum": 0,
    "hideHardwareSpecs": false,
    "memoryGiB": 192,
    "name": "ml.m5.12xlarge",
    "vcpuNum": 48
   },
   {
    "_defaultOrder": 10,
    "_isFastLaunch": false,
    "category": "General purpose",
    "gpuNum": 0,
    "hideHardwareSpecs": false,
    "memoryGiB": 256,
    "name": "ml.m5.16xlarge",
    "vcpuNum": 64
   },
   {
    "_defaultOrder": 11,
    "_isFastLaunch": false,
    "category": "General purpose",
    "gpuNum": 0,
    "hideHardwareSpecs": false,
    "memoryGiB": 384,
    "name": "ml.m5.24xlarge",
    "vcpuNum": 96
   },
   {
    "_defaultOrder": 12,
    "_isFastLaunch": false,
    "category": "General purpose",
    "gpuNum": 0,
    "hideHardwareSpecs": false,
    "memoryGiB": 8,
    "name": "ml.m5d.large",
    "vcpuNum": 2
   },
   {
    "_defaultOrder": 13,
    "_isFastLaunch": false,
    "category": "General purpose",
    "gpuNum": 0,
    "hideHardwareSpecs": false,
    "memoryGiB": 16,
    "name": "ml.m5d.xlarge",
    "vcpuNum": 4
   },
   {
    "_defaultOrder": 14,
    "_isFastLaunch": false,
    "category": "General purpose",
    "gpuNum": 0,
    "hideHardwareSpecs": false,
    "memoryGiB": 32,
    "name": "ml.m5d.2xlarge",
    "vcpuNum": 8
   },
   {
    "_defaultOrder": 15,
    "_isFastLaunch": false,
    "category": "General purpose",
    "gpuNum": 0,
    "hideHardwareSpecs": false,
    "memoryGiB": 64,
    "name": "ml.m5d.4xlarge",
    "vcpuNum": 16
   },
   {
    "_defaultOrder": 16,
    "_isFastLaunch": false,
    "category": "General purpose",
    "gpuNum": 0,
    "hideHardwareSpecs": false,
    "memoryGiB": 128,
    "name": "ml.m5d.8xlarge",
    "vcpuNum": 32
   },
   {
    "_defaultOrder": 17,
    "_isFastLaunch": false,
    "category": "General purpose",
    "gpuNum": 0,
    "hideHardwareSpecs": false,
    "memoryGiB": 192,
    "name": "ml.m5d.12xlarge",
    "vcpuNum": 48
   },
   {
    "_defaultOrder": 18,
    "_isFastLaunch": false,
    "category": "General purpose",
    "gpuNum": 0,
    "hideHardwareSpecs": false,
    "memoryGiB": 256,
    "name": "ml.m5d.16xlarge",
    "vcpuNum": 64
   },
   {
    "_defaultOrder": 19,
    "_isFastLaunch": false,
    "category": "General purpose",
    "gpuNum": 0,
    "hideHardwareSpecs": false,
    "memoryGiB": 384,
    "name": "ml.m5d.24xlarge",
    "vcpuNum": 96
   },
   {
    "_defaultOrder": 20,
    "_isFastLaunch": false,
    "category": "General purpose",
    "gpuNum": 0,
    "hideHardwareSpecs": true,
    "memoryGiB": 0,
    "name": "ml.geospatial.interactive",
    "supportedImageNames": [
     "sagemaker-geospatial-v1-0"
    ],
    "vcpuNum": 0
   },
   {
    "_defaultOrder": 21,
    "_isFastLaunch": true,
    "category": "Compute optimized",
    "gpuNum": 0,
    "hideHardwareSpecs": false,
    "memoryGiB": 4,
    "name": "ml.c5.large",
    "vcpuNum": 2
   },
   {
    "_defaultOrder": 22,
    "_isFastLaunch": false,
    "category": "Compute optimized",
    "gpuNum": 0,
    "hideHardwareSpecs": false,
    "memoryGiB": 8,
    "name": "ml.c5.xlarge",
    "vcpuNum": 4
   },
   {
    "_defaultOrder": 23,
    "_isFastLaunch": false,
    "category": "Compute optimized",
    "gpuNum": 0,
    "hideHardwareSpecs": false,
    "memoryGiB": 16,
    "name": "ml.c5.2xlarge",
    "vcpuNum": 8
   },
   {
    "_defaultOrder": 24,
    "_isFastLaunch": false,
    "category": "Compute optimized",
    "gpuNum": 0,
    "hideHardwareSpecs": false,
    "memoryGiB": 32,
    "name": "ml.c5.4xlarge",
    "vcpuNum": 16
   },
   {
    "_defaultOrder": 25,
    "_isFastLaunch": false,
    "category": "Compute optimized",
    "gpuNum": 0,
    "hideHardwareSpecs": false,
    "memoryGiB": 72,
    "name": "ml.c5.9xlarge",
    "vcpuNum": 36
   },
   {
    "_defaultOrder": 26,
    "_isFastLaunch": false,
    "category": "Compute optimized",
    "gpuNum": 0,
    "hideHardwareSpecs": false,
    "memoryGiB": 96,
    "name": "ml.c5.12xlarge",
    "vcpuNum": 48
   },
   {
    "_defaultOrder": 27,
    "_isFastLaunch": false,
    "category": "Compute optimized",
    "gpuNum": 0,
    "hideHardwareSpecs": false,
    "memoryGiB": 144,
    "name": "ml.c5.18xlarge",
    "vcpuNum": 72
   },
   {
    "_defaultOrder": 28,
    "_isFastLaunch": false,
    "category": "Compute optimized",
    "gpuNum": 0,
    "hideHardwareSpecs": false,
    "memoryGiB": 192,
    "name": "ml.c5.24xlarge",
    "vcpuNum": 96
   },
   {
    "_defaultOrder": 29,
    "_isFastLaunch": true,
    "category": "Accelerated computing",
    "gpuNum": 1,
    "hideHardwareSpecs": false,
    "memoryGiB": 16,
    "name": "ml.g4dn.xlarge",
    "vcpuNum": 4
   },
   {
    "_defaultOrder": 30,
    "_isFastLaunch": false,
    "category": "Accelerated computing",
    "gpuNum": 1,
    "hideHardwareSpecs": false,
    "memoryGiB": 32,
    "name": "ml.g4dn.2xlarge",
    "vcpuNum": 8
   },
   {
    "_defaultOrder": 31,
    "_isFastLaunch": false,
    "category": "Accelerated computing",
    "gpuNum": 1,
    "hideHardwareSpecs": false,
    "memoryGiB": 64,
    "name": "ml.g4dn.4xlarge",
    "vcpuNum": 16
   },
   {
    "_defaultOrder": 32,
    "_isFastLaunch": false,
    "category": "Accelerated computing",
    "gpuNum": 1,
    "hideHardwareSpecs": false,
    "memoryGiB": 128,
    "name": "ml.g4dn.8xlarge",
    "vcpuNum": 32
   },
   {
    "_defaultOrder": 33,
    "_isFastLaunch": false,
    "category": "Accelerated computing",
    "gpuNum": 4,
    "hideHardwareSpecs": false,
    "memoryGiB": 192,
    "name": "ml.g4dn.12xlarge",
    "vcpuNum": 48
   },
   {
    "_defaultOrder": 34,
    "_isFastLaunch": false,
    "category": "Accelerated computing",
    "gpuNum": 1,
    "hideHardwareSpecs": false,
    "memoryGiB": 256,
    "name": "ml.g4dn.16xlarge",
    "vcpuNum": 64
   },
   {
    "_defaultOrder": 35,
    "_isFastLaunch": false,
    "category": "Accelerated computing",
    "gpuNum": 1,
    "hideHardwareSpecs": false,
    "memoryGiB": 61,
    "name": "ml.p3.2xlarge",
    "vcpuNum": 8
   },
   {
    "_defaultOrder": 36,
    "_isFastLaunch": false,
    "category": "Accelerated computing",
    "gpuNum": 4,
    "hideHardwareSpecs": false,
    "memoryGiB": 244,
    "name": "ml.p3.8xlarge",
    "vcpuNum": 32
   },
   {
    "_defaultOrder": 37,
    "_isFastLaunch": false,
    "category": "Accelerated computing",
    "gpuNum": 8,
    "hideHardwareSpecs": false,
    "memoryGiB": 488,
    "name": "ml.p3.16xlarge",
    "vcpuNum": 64
   },
   {
    "_defaultOrder": 38,
    "_isFastLaunch": false,
    "category": "Accelerated computing",
    "gpuNum": 8,
    "hideHardwareSpecs": false,
    "memoryGiB": 768,
    "name": "ml.p3dn.24xlarge",
    "vcpuNum": 96
   },
   {
    "_defaultOrder": 39,
    "_isFastLaunch": false,
    "category": "Memory Optimized",
    "gpuNum": 0,
    "hideHardwareSpecs": false,
    "memoryGiB": 16,
    "name": "ml.r5.large",
    "vcpuNum": 2
   },
   {
    "_defaultOrder": 40,
    "_isFastLaunch": false,
    "category": "Memory Optimized",
    "gpuNum": 0,
    "hideHardwareSpecs": false,
    "memoryGiB": 32,
    "name": "ml.r5.xlarge",
    "vcpuNum": 4
   },
   {
    "_defaultOrder": 41,
    "_isFastLaunch": false,
    "category": "Memory Optimized",
    "gpuNum": 0,
    "hideHardwareSpecs": false,
    "memoryGiB": 64,
    "name": "ml.r5.2xlarge",
    "vcpuNum": 8
   },
   {
    "_defaultOrder": 42,
    "_isFastLaunch": false,
    "category": "Memory Optimized",
    "gpuNum": 0,
    "hideHardwareSpecs": false,
    "memoryGiB": 128,
    "name": "ml.r5.4xlarge",
    "vcpuNum": 16
   },
   {
    "_defaultOrder": 43,
    "_isFastLaunch": false,
    "category": "Memory Optimized",
    "gpuNum": 0,
    "hideHardwareSpecs": false,
    "memoryGiB": 256,
    "name": "ml.r5.8xlarge",
    "vcpuNum": 32
   },
   {
    "_defaultOrder": 44,
    "_isFastLaunch": false,
    "category": "Memory Optimized",
    "gpuNum": 0,
    "hideHardwareSpecs": false,
    "memoryGiB": 384,
    "name": "ml.r5.12xlarge",
    "vcpuNum": 48
   },
   {
    "_defaultOrder": 45,
    "_isFastLaunch": false,
    "category": "Memory Optimized",
    "gpuNum": 0,
    "hideHardwareSpecs": false,
    "memoryGiB": 512,
    "name": "ml.r5.16xlarge",
    "vcpuNum": 64
   },
   {
    "_defaultOrder": 46,
    "_isFastLaunch": false,
    "category": "Memory Optimized",
    "gpuNum": 0,
    "hideHardwareSpecs": false,
    "memoryGiB": 768,
    "name": "ml.r5.24xlarge",
    "vcpuNum": 96
   },
   {
    "_defaultOrder": 47,
    "_isFastLaunch": false,
    "category": "Accelerated computing",
    "gpuNum": 1,
    "hideHardwareSpecs": false,
    "memoryGiB": 16,
    "name": "ml.g5.xlarge",
    "vcpuNum": 4
   },
   {
    "_defaultOrder": 48,
    "_isFastLaunch": false,
    "category": "Accelerated computing",
    "gpuNum": 1,
    "hideHardwareSpecs": false,
    "memoryGiB": 32,
    "name": "ml.g5.2xlarge",
    "vcpuNum": 8
   },
   {
    "_defaultOrder": 49,
    "_isFastLaunch": false,
    "category": "Accelerated computing",
    "gpuNum": 1,
    "hideHardwareSpecs": false,
    "memoryGiB": 64,
    "name": "ml.g5.4xlarge",
    "vcpuNum": 16
   },
   {
    "_defaultOrder": 50,
    "_isFastLaunch": false,
    "category": "Accelerated computing",
    "gpuNum": 1,
    "hideHardwareSpecs": false,
    "memoryGiB": 128,
    "name": "ml.g5.8xlarge",
    "vcpuNum": 32
   },
   {
    "_defaultOrder": 51,
    "_isFastLaunch": false,
    "category": "Accelerated computing",
    "gpuNum": 1,
    "hideHardwareSpecs": false,
    "memoryGiB": 256,
    "name": "ml.g5.16xlarge",
    "vcpuNum": 64
   },
   {
    "_defaultOrder": 52,
    "_isFastLaunch": false,
    "category": "Accelerated computing",
    "gpuNum": 4,
    "hideHardwareSpecs": false,
    "memoryGiB": 192,
    "name": "ml.g5.12xlarge",
    "vcpuNum": 48
   },
   {
    "_defaultOrder": 53,
    "_isFastLaunch": false,
    "category": "Accelerated computing",
    "gpuNum": 4,
    "hideHardwareSpecs": false,
    "memoryGiB": 384,
    "name": "ml.g5.24xlarge",
    "vcpuNum": 96
   },
   {
    "_defaultOrder": 54,
    "_isFastLaunch": false,
    "category": "Accelerated computing",
    "gpuNum": 8,
    "hideHardwareSpecs": false,
    "memoryGiB": 768,
    "name": "ml.g5.48xlarge",
    "vcpuNum": 192
   },
   {
    "_defaultOrder": 55,
    "_isFastLaunch": false,
    "category": "Accelerated computing",
    "gpuNum": 8,
    "hideHardwareSpecs": false,
    "memoryGiB": 1152,
    "name": "ml.p4d.24xlarge",
    "vcpuNum": 96
   },
   {
    "_defaultOrder": 56,
    "_isFastLaunch": false,
    "category": "Accelerated computing",
    "gpuNum": 8,
    "hideHardwareSpecs": false,
    "memoryGiB": 1152,
    "name": "ml.p4de.24xlarge",
    "vcpuNum": 96
   }
  ],
  "instance_type": "ml.t3.medium",
  "kernelspec": {
   "display_name": "Python 3 (Data Science 3.0)",
   "language": "python",
   "name": "python3__SAGEMAKER_INTERNAL__arn:aws:sagemaker:us-east-2:429704687514:image/sagemaker-data-science-310-v1"
  },
  "language_info": {
   "codemirror_mode": {
    "name": "ipython",
    "version": 3
   },
   "file_extension": ".py",
   "mimetype": "text/x-python",
   "name": "python",
   "nbconvert_exporter": "python",
   "pygments_lexer": "ipython3",
   "version": "3.10.6"
  }
 },
 "nbformat": 4,
 "nbformat_minor": 5
}
